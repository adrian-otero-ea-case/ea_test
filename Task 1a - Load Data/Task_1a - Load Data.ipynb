{
 "cells": [
  {
   "cell_type": "markdown",
   "metadata": {},
   "source": [
    "# Install libraries"
   ]
  },
  {
   "cell_type": "code",
   "execution_count": 1,
   "metadata": {
    "collapsed": false,
    "scrolled": true
   },
   "outputs": [],
   "source": [
    "import os\n",
    "import pandas as pd\n",
    "import numpy as np\n",
    "import matplotlib\n",
    "import pandas_profiling as pf\n",
    "\n",
    "from io import BytesIO\n",
    "from pandas.io import sql\n",
    "from sqlalchemy import create_engine\n",
    "from mysql import connector\n",
    "from google.cloud import storage\n",
    "from google.cloud import bigquery\n",
    "\n",
    "%matplotlib inline\n",
    "import matplotlib.pyplot as plt\n",
    "#plt.switch_backend('agg')\n",
    "\n",
    "pd.set_option('display.max_columns', None)"
   ]
  },
  {
   "cell_type": "markdown",
   "metadata": {},
   "source": [
    "# Configure connection with Cloud SQL"
   ]
  },
  {
   "cell_type": "code",
   "execution_count": 2,
   "metadata": {
    "collapsed": true
   },
   "outputs": [],
   "source": [
    "user='ea-developer'\n",
    "host='35.205.32.16'\n",
    "port='3306'\n",
    "db='ea_datalake'\n",
    "database_connection = create_engine('mysql+mysqlconnector://{0}:@{1}:{2}/{3}'.format(user, host, port, db))"
   ]
  },
  {
   "cell_type": "markdown",
   "metadata": {},
   "source": [
    "# Configure connection with Bigquery"
   ]
  },
  {
   "cell_type": "code",
   "execution_count": 3,
   "metadata": {
    "collapsed": true
   },
   "outputs": [],
   "source": [
    "bigquery_client = bigquery.Client()"
   ]
  },
  {
   "cell_type": "markdown",
   "metadata": {},
   "source": [
    "# Configure connection with Cloud Storage"
   ]
  },
  {
   "cell_type": "code",
   "execution_count": 4,
   "metadata": {
    "collapsed": true
   },
   "outputs": [],
   "source": [
    "# Instantiates a client\n",
    "storage_client = storage.Client()\n",
    "\n",
    "# The name for the new bucket\n",
    "bucket_name = 'ea-datalake-dev'"
   ]
  },
  {
   "cell_type": "markdown",
   "metadata": {},
   "source": [
    "Define functions to load data into Cloud Storage"
   ]
  },
  {
   "cell_type": "code",
   "execution_count": 5,
   "metadata": {
    "collapsed": true
   },
   "outputs": [],
   "source": [
    "def upload_blob(bucket_name, source_file_name, destination_blob_name):\n",
    "    \"\"\"Uploads a file to the bucket.\"\"\"\n",
    "    storage_client = storage.Client()\n",
    "    bucket = storage_client.get_bucket(bucket_name)\n",
    "    blob = bucket.blob(destination_blob_name)\n",
    "\n",
    "    blob.upload_from_filename(source_file_name)\n",
    "\n",
    "    print('File {} uploaded to {}.'.format(\n",
    "        source_file_name,\n",
    "        destination_blob_name))\n",
    "    \n",
    "def list_blobs(bucket_name):\n",
    "    \"\"\"Lists all the blobs in the bucket.\"\"\"\n",
    "    storage_client = storage.Client()\n",
    "    bucket = storage_client.get_bucket(bucket_name)\n",
    "\n",
    "    blobs = bucket.list_blobs()\n",
    "\n",
    "    for blob in blobs:\n",
    "        print(blob.name)"
   ]
  },
  {
   "cell_type": "markdown",
   "metadata": {},
   "source": [
    "# Download data from Kaggle Dataset\n",
    "https://www.kaggle.com/thec03u5/fifa-18-demo-player-dataset/data"
   ]
  },
  {
   "cell_type": "code",
   "execution_count": 6,
   "metadata": {
    "collapsed": false
   },
   "outputs": [
    {
     "name": "stdout",
     "output_type": "stream",
     "text": [
      "Warning: Your Kaggle API key is readable by other users on this system! To fix this, you can run 'chmod 600 /home/adrian_otero_ea_case/.kaggle/kaggle.json'\n",
      "Downloading fifa-18-demo-player-dataset.zip to /home/adrian_otero_ea_case\n",
      "  0%|                                               | 0.00/3.82M [00:00<?, ?B/s]\n",
      "100%|██████████████████████████████████████| 3.82M/3.82M [00:00<00:00, 82.0MB/s]\n",
      "Archive:  fifa-18-demo-player-dataset.zip\n",
      "  inflating: CompleteDataset.csv     \n",
      "  inflating: PlayerAttributeData.csv  \n",
      "  inflating: PlayerPersonalData.csv  \n",
      "  inflating: PlayerPlayingPositionData.csv  \n",
      "CompleteDataset.csv\t PlayerPersonalData.csv\n",
      "PlayerAttributeData.csv  PlayerPlayingPositionData.csv\n"
     ]
    }
   ],
   "source": [
    "!kaggle datasets download -d thec03u5/fifa-18-demo-player-dataset\n",
    "!unzip fifa-18-demo-player-dataset.zip\n",
    "!mkdir data\n",
    "!mkdir data/fifa-18-demo-player-dataset/\n",
    "!mv *Data*.csv data/fifa-18-demo-player-dataset/\n",
    "!rm -rf fifa-18-demo-player-dataset.zip\n",
    "!ls data/fifa-18-demo-player-dataset/"
   ]
  },
  {
   "cell_type": "markdown",
   "metadata": {},
   "source": [
    "# Download data from GIT repo\n",
    "https://github.com/annexare/Countries"
   ]
  },
  {
   "cell_type": "code",
   "execution_count": 7,
   "metadata": {
    "collapsed": false
   },
   "outputs": [
    {
     "name": "stdout",
     "output_type": "stream",
     "text": [
      "--2019-10-20 22:39:21--  https://github.com/annexare/Countries/archive/master.zip\n",
      "Resolving github.com (github.com)... 140.82.118.3\n",
      "Connecting to github.com (github.com)|140.82.118.3|:443... connected.\n",
      "HTTP request sent, awaiting response... 302 Found\n",
      "Location: https://codeload.github.com/annexare/Countries/zip/master [following]\n",
      "--2019-10-20 22:39:21--  https://codeload.github.com/annexare/Countries/zip/master\n",
      "Resolving codeload.github.com (codeload.github.com)... 192.30.253.120\n",
      "Connecting to codeload.github.com (codeload.github.com)|192.30.253.120|:443... connected.\n",
      "HTTP request sent, awaiting response... 200 OK\n",
      "Length: unspecified [application/zip]\n",
      "Saving to: ‘master.zip’\n",
      "\n",
      "master.zip              [  <=>               ] 236.09K   725KB/s    in 0.3s    \n",
      "\n",
      "2019-10-20 22:39:22 (725 KB/s) - ‘master.zip’ saved [241759]\n",
      "\n",
      "Archive:  master.zip\n",
      "abfdb128bd43ac42708a953c5a46971cd4e678b5\n",
      "   creating: Countries-master/\n",
      "  inflating: Countries-master/.editorconfig  \n",
      "  inflating: Countries-master/.eslintrc.json  \n",
      "  inflating: Countries-master/.gitignore  \n",
      "  inflating: Countries-master/.npmignore  \n",
      "  inflating: Countries-master/.travis.yml  \n",
      "  inflating: Countries-master/LICENSE  \n",
      "  inflating: Countries-master/README.md  \n",
      "  inflating: Countries-master/bower.json  \n",
      "  inflating: Countries-master/composer.json  \n",
      "   creating: Countries-master/data/\n",
      "  inflating: Countries-master/data/continents.json  \n",
      "  inflating: Countries-master/data/countries.json  \n",
      "  inflating: Countries-master/data/languages.json  \n",
      "   creating: Countries-master/dist/\n",
      "  inflating: Countries-master/dist/continents.json  \n",
      "  inflating: Countries-master/dist/continents.min.json  \n",
      "  inflating: Countries-master/dist/countries.csv  \n",
      "  inflating: Countries-master/dist/countries.emoji.json  \n",
      "  inflating: Countries-master/dist/countries.emoji.min.json  \n",
      "  inflating: Countries-master/dist/countries.json  \n",
      "  inflating: Countries-master/dist/countries.min.json  \n",
      "  inflating: Countries-master/dist/data.json  \n",
      "  inflating: Countries-master/dist/data.min.json  \n",
      "  inflating: Countries-master/dist/data.sql  \n",
      "  inflating: Countries-master/dist/index.d.ts  \n",
      "  inflating: Countries-master/dist/index.es5.min.js  \n",
      "  inflating: Countries-master/dist/index.es5.min.js.map  \n",
      "  inflating: Countries-master/dist/index.es5.min.test.js  \n",
      "  inflating: Countries-master/dist/index.js  \n",
      "  inflating: Countries-master/dist/index.test.js  \n",
      "  inflating: Countries-master/dist/languages.all.json  \n",
      "  inflating: Countries-master/dist/languages.all.min.json  \n",
      "  inflating: Countries-master/dist/languages.json  \n",
      "  inflating: Countries-master/dist/languages.min.json  \n",
      "   creating: Countries-master/dist/minimal/\n",
      "  inflating: Countries-master/dist/minimal/README.md  \n",
      "  inflating: Countries-master/dist/minimal/countries.en.min.json  \n",
      "  inflating: Countries-master/dist/minimal/countries.minimal.min.json  \n",
      "  inflating: Countries-master/dist/minimal/languages.en.min.json  \n",
      "  inflating: Countries-master/dist/minimal/languages.minimal.min.json  \n",
      "  inflating: Countries-master/gulpfile.js  \n",
      "  inflating: Countries-master/index.tpl.d.ts  \n",
      "  inflating: Countries-master/package-lock.json  \n",
      "  inflating: Countries-master/package.json  \n"
     ]
    }
   ],
   "source": [
    "!wget https://github.com/annexare/Countries/archive/master.zip\n",
    "!unzip master.zip\n",
    "!mkdir data/countries\n",
    "!mv Countries-master/data/* data/countries\n",
    "!rm -rf master.zip\n",
    "!rm -rf Countries-master"
   ]
  },
  {
   "cell_type": "markdown",
   "metadata": {},
   "source": [
    "# Load data about Countries and Languages"
   ]
  },
  {
   "cell_type": "markdown",
   "metadata": {},
   "source": [
    "Load countries information and transpose columns"
   ]
  },
  {
   "cell_type": "code",
   "execution_count": 8,
   "metadata": {
    "collapsed": false
   },
   "outputs": [],
   "source": [
    "df_countries = pd.read_json(r'/home/adrian_otero_ea_case/data/countries/countries.json')\n",
    "df_countries = df_countries.transpose()\n",
    "df_countries = df_countries.reset_index()\n",
    "df_countries = df_countries[['name','languages','capital','continent','currency','native','phone']]\n",
    "df_countries = df_countries.rename(columns = {'name':'country','languages':'language_code'})"
   ]
  },
  {
   "cell_type": "markdown",
   "metadata": {},
   "source": [
    "Convert the array of languages into different columns"
   ]
  },
  {
   "cell_type": "code",
   "execution_count": 9,
   "metadata": {
    "collapsed": false,
    "scrolled": true
   },
   "outputs": [],
   "source": [
    "df_countries_lang = pd.DataFrame(df_countries.language_code.values.tolist(), index=df_countries.index)\n",
    "df_countries_lang = df_countries_lang.add_prefix('language_code_')\n",
    "df_countries_lang.fillna(value='', inplace=True)\n",
    "df_countries = pd.concat([df_countries, df_countries_lang], axis=1)\n",
    "df_countries.drop('language_code', axis=1, inplace=True)"
   ]
  },
  {
   "cell_type": "markdown",
   "metadata": {},
   "source": [
    "Load languages information and transpose columns"
   ]
  },
  {
   "cell_type": "code",
   "execution_count": 10,
   "metadata": {
    "collapsed": false
   },
   "outputs": [],
   "source": [
    "df_languages = pd.read_json(r'/home/adrian_otero_ea_case/data/countries/languages.json')\n",
    "df_languages = df_languages.transpose()\n",
    "df_languages = df_languages.reset_index()\n",
    "df_languages = df_languages.rename(columns = {'index':'language_code','name':'language','native':'language_native'})\n",
    "df_languages = df_languages[['language_code','language']]"
   ]
  },
  {
   "cell_type": "markdown",
   "metadata": {},
   "source": [
    "Convert language code to language name joining countries and languages datasets"
   ]
  },
  {
   "cell_type": "code",
   "execution_count": 11,
   "metadata": {
    "collapsed": false,
    "scrolled": true
   },
   "outputs": [],
   "source": [
    "df_countries = pd.merge(df_countries, df_languages, how='left', left_on=['language_code_0'], right_on=['language_code']).\\\n",
    "    rename(columns = {'language':'language_0'}).drop({'language_code','language_code_0'},axis=1)\n",
    "df_countries = pd.merge(df_countries, df_languages, how='left', left_on=['language_code_1'], right_on=['language_code']).\\\n",
    "    rename(columns = {'language':'language_1'}).drop({'language_code','language_code_1'},axis=1)\n",
    "df_countries = pd.merge(df_countries, df_languages, how='left', left_on=['language_code_2'], right_on=['language_code']).\\\n",
    "    rename(columns = {'language':'language_2'}).drop({'language_code','language_code_2'},axis=1)\n",
    "df_countries = pd.merge(df_countries, df_languages, how='left', left_on=['language_code_3'], right_on=['language_code']).\\\n",
    "    rename(columns = {'language':'language_3'}).drop({'language_code','language_code_3'},axis=1)\n",
    "df_countries = pd.merge(df_countries, df_languages, how='left', left_on=['language_code_4'], right_on=['language_code']).\\\n",
    "    rename(columns = {'language':'language_4'}).drop({'language_code','language_code_4'},axis=1)\n",
    "df_countries = pd.merge(df_countries, df_languages, how='left', left_on=['language_code_5'], right_on=['language_code']).\\\n",
    "    rename(columns = {'language':'language_5'}).drop({'language_code','language_code_5'},axis=1)\n",
    "df_countries = pd.merge(df_countries, df_languages, how='left', left_on=['language_code_6'], right_on=['language_code']).\\\n",
    "    rename(columns = {'language':'language_6'}).drop({'language_code','language_code_6'},axis=1)\n",
    "df_countries = pd.merge(df_countries, df_languages, how='left', left_on=['language_code_7'], right_on=['language_code']).\\\n",
    "    rename(columns = {'language':'language_7'}).drop({'language_code','language_code_7'},axis=1)\n",
    "df_countries = pd.merge(df_countries, df_languages, how='left', left_on=['language_code_8'], right_on=['language_code']).\\\n",
    "    rename(columns = {'language':'language_8'}).drop({'language_code','language_code_8'},axis=1)\n",
    "df_countries = pd.merge(df_countries, df_languages, how='left', left_on=['language_code_9'], right_on=['language_code']).\\\n",
    "    rename(columns = {'language':'language_9'}).drop({'language_code','language_code_9'},axis=1)\n",
    "df_countries.fillna(value='', inplace=True)"
   ]
  },
  {
   "cell_type": "markdown",
   "metadata": {},
   "source": [
    "Export data to a csv file and load it into a Clod Storage bucket"
   ]
  },
  {
   "cell_type": "code",
   "execution_count": 12,
   "metadata": {
    "collapsed": true
   },
   "outputs": [],
   "source": [
    "df_countries.to_csv(r'data/countries/countries_languages.csv')"
   ]
  },
  {
   "cell_type": "code",
   "execution_count": 13,
   "metadata": {
    "collapsed": false
   },
   "outputs": [
    {
     "name": "stdout",
     "output_type": "stream",
     "text": [
      "File data/countries/countries_languages.csv uploaded to export/countries_languages.csv.\n"
     ]
    }
   ],
   "source": [
    "upload_blob(bucket_name, r'data/countries/countries_languages.csv', r'export/countries_languages.csv')"
   ]
  },
  {
   "cell_type": "markdown",
   "metadata": {
    "collapsed": false
   },
   "source": [
    "Move data to Cloud SQL"
   ]
  },
  {
   "cell_type": "code",
   "execution_count": 14,
   "metadata": {
    "collapsed": true
   },
   "outputs": [],
   "source": [
    "df_countries.to_sql(con=database_connection, name='ea_countries_languages', if_exists='replace')"
   ]
  },
  {
   "cell_type": "markdown",
   "metadata": {},
   "source": [
    "# Load data about EA's FIFA 18 players"
   ]
  },
  {
   "cell_type": "markdown",
   "metadata": {},
   "source": [
    "Read data from CSV files obtained from Kaggle"
   ]
  },
  {
   "cell_type": "code",
   "execution_count": 15,
   "metadata": {
    "collapsed": false,
    "scrolled": true
   },
   "outputs": [],
   "source": [
    "df_complete_dataset = pd.read_csv(r'data/fifa-18-demo-player-dataset/CompleteDataset.csv', index_col=0, header=0, low_memory=False)"
   ]
  },
  {
   "cell_type": "markdown",
   "metadata": {},
   "source": [
    "Load data into Cloud SQL database"
   ]
  },
  {
   "cell_type": "code",
   "execution_count": 16,
   "metadata": {
    "collapsed": true
   },
   "outputs": [],
   "source": [
    "df_complete_dataset.to_sql(con=database_connection, name='ea_complete_dataset', if_exists='replace',index=False)"
   ]
  }
 ],
 "metadata": {
  "kernelspec": {
   "display_name": "Python 3",
   "language": "python",
   "name": "python3"
  },
  "language_info": {
   "codemirror_mode": {
    "name": "ipython",
    "version": 3
   },
   "file_extension": ".py",
   "mimetype": "text/x-python",
   "name": "python",
   "nbconvert_exporter": "python",
   "pygments_lexer": "ipython3",
   "version": "3.5.4"
  }
 },
 "nbformat": 4,
 "nbformat_minor": 0
}
